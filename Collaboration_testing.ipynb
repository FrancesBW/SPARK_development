{
  "nbformat": 4,
  "nbformat_minor": 0,
  "metadata": {
    "colab": {
      "name": "Collaboration_testing.ipynb",
      "provenance": [],
      "toc_visible": true,
      "authorship_tag": "ABX9TyOdg4sunp67ge/96l4al18X",
      "include_colab_link": true
    },
    "kernelspec": {
      "name": "python3",
      "display_name": "Python 3"
    }
  },
  "cells": [
    {
      "cell_type": "markdown",
      "metadata": {
        "id": "view-in-github",
        "colab_type": "text"
      },
      "source": [
        "<a href=\"https://colab.research.google.com/github/FrancesBW/SPARK_development/blob/main/Collaboration_testing.ipynb\" target=\"_parent\"><img src=\"https://colab.research.google.com/assets/colab-badge.svg\" alt=\"Open In Colab\"/></a>"
      ]
    },
    {
      "cell_type": "markdown",
      "metadata": {
        "id": "lRXe-sVcQgOu"
      },
      "source": [
        "# Setup\n"
      ]
    },
    {
      "cell_type": "code",
      "metadata": {
        "id": "sEtthF3uPprR",
        "outputId": "8473fc55-3254-486e-8275-d726a269b74a",
        "colab": {
          "base_uri": "https://localhost:8080/",
          "height": 232
        }
      },
      "source": [
        "import numpy as np\n",
        "from astropy.io import fits\n",
        "import astropy.table as pytabs\n",
        "import matplotlib.pyplot as plt\n",
        "import os\n",
        "import pandas as pd\n",
        "\n",
        "os.chdir('SPARK/SPARK/absorption/')\n",
        "from absorption_nov import lbfgs_abs\n",
        "os.chdir('../../../')"
      ],
      "execution_count": 1,
      "outputs": [
        {
          "output_type": "error",
          "ename": "FileNotFoundError",
          "evalue": "ignored",
          "traceback": [
            "\u001b[0;31m---------------------------------------------------------------------------\u001b[0m",
            "\u001b[0;31mFileNotFoundError\u001b[0m                         Traceback (most recent call last)",
            "\u001b[0;32m<ipython-input-1-573404bcf4f6>\u001b[0m in \u001b[0;36m<module>\u001b[0;34m()\u001b[0m\n\u001b[1;32m      6\u001b[0m \u001b[0;32mimport\u001b[0m \u001b[0mpandas\u001b[0m \u001b[0;32mas\u001b[0m \u001b[0mpd\u001b[0m\u001b[0;34m\u001b[0m\u001b[0;34m\u001b[0m\u001b[0m\n\u001b[1;32m      7\u001b[0m \u001b[0;34m\u001b[0m\u001b[0m\n\u001b[0;32m----> 8\u001b[0;31m \u001b[0mos\u001b[0m\u001b[0;34m.\u001b[0m\u001b[0mchdir\u001b[0m\u001b[0;34m(\u001b[0m\u001b[0;34m'SPARK/SPARK/absorption/'\u001b[0m\u001b[0;34m)\u001b[0m\u001b[0;34m\u001b[0m\u001b[0;34m\u001b[0m\u001b[0m\n\u001b[0m\u001b[1;32m      9\u001b[0m \u001b[0;32mfrom\u001b[0m \u001b[0mabsorption_nov\u001b[0m \u001b[0;32mimport\u001b[0m \u001b[0mlbfgs_abs\u001b[0m\u001b[0;34m\u001b[0m\u001b[0;34m\u001b[0m\u001b[0m\n\u001b[1;32m     10\u001b[0m \u001b[0mos\u001b[0m\u001b[0;34m.\u001b[0m\u001b[0mchdir\u001b[0m\u001b[0;34m(\u001b[0m\u001b[0;34m'../../../'\u001b[0m\u001b[0;34m)\u001b[0m\u001b[0;34m\u001b[0m\u001b[0;34m\u001b[0m\u001b[0m\n",
            "\u001b[0;31mFileNotFoundError\u001b[0m: [Errno 2] No such file or directory: 'SPARK/SPARK/absorption/'"
          ]
        }
      ]
    },
    {
      "cell_type": "code",
      "metadata": {
        "id": "1XzcJkBITu--",
        "outputId": "d54468e6-f886-444c-e150-66acee6d644b",
        "colab": {
          "base_uri": "https://localhost:8080/"
        }
      },
      "source": [
        "os.listdir()"
      ],
      "execution_count": 6,
      "outputs": [
        {
          "output_type": "execute_result",
          "data": {
            "text/plain": [
              "['.config', 'sample_data']"
            ]
          },
          "metadata": {
            "tags": []
          },
          "execution_count": 6
        }
      ]
    },
    {
      "cell_type": "code",
      "metadata": {
        "id": "fsUOnctdQm3A"
      },
      "source": [
        "path = ''\n",
        "name = '3C225A'\n",
        "\n",
        "cat = fits.getdata(path+\"all_sponge_sources_table_tighter.fits\")\n",
        "data_s = pytabs.Table(cat)\n",
        "idx_absline=np.where(data_s[\"NAMES\"]==name)[0][0]\n",
        "#we have to un-nan for some sources that we added nans to to make them fit in the table\n",
        "nan_values=np.isnan(data_s[idx_absline][\"VEL\"])\n",
        "numeric_values=[not i for i in nan_values]\n",
        "v = data_s[idx_absline][\"VEL\"][numeric_values]\n",
        "#correct velocities to model over\n",
        "chiller_vel_idx=np.intersect1d(np.where(v>-100.),np.where(v<80.))\n",
        "\n",
        "#initialise the reduced data\n",
        "v = v[chiller_vel_idx]\n",
        "Tb = data_s[idx_absline][\"TB\"][numeric_values][chiller_vel_idx]\n",
        "tau = data_s[idx_absline][\"TAU\"][numeric_values][chiller_vel_idx]\n",
        "rms_Tb=data_s[idx_absline]['SIG_TB'][numeric_values][chiller_vel_idx]\n",
        "rms_tau=data_s[idx_absline]['SIG_TAU'][numeric_values][chiller_vel_idx]\n",
        "\n",
        "#Channel spacing\n",
        "dv = np.diff(v)[0]\n",
        "\n",
        "#hdr\n",
        "hdr=fits.Header()\n",
        "hdr[\"CDELT3\"] = dv\n",
        "hdr[\"CRPIX3\"] = 0\n",
        "hdr[\"CRVAL3\"] = v[0]*1.e3\n",
        "\n",
        "#parameters                                                                                                                                                                                                                                                              \n",
        "amp_fact_init = 2./3.\n",
        "sig_init = 10.\n",
        "iprint_init = -1\n",
        "iprint = -1\n",
        "maxiter_init = 15000\n",
        "maxiter = 150000\n",
        "corr_iter = 10\n",
        "\n",
        "n_gauss = 9          #@param {type:\"slider\", min:1, max:25, step:1} \n",
        "fit_tol = 1.1          #@param {type:\"slider\", min:1, max:10, step:0.2}\n",
        "mu_tol = 5./(dv/1000)  #@param {type:\"slider\", min:0, max:100, step:1}\n",
        "sig_tol = 5./(dv/1000) #@param {type:\"slider\", min:0, max:100, step:1}\n",
        "lb_amp = 0.\n",
        "ub_amp = np.max(Tb)\n",
        "lb_mu = 1\n",
        "ub_mu = len(tau)\n",
        "lb_sig= 1\n",
        "ub_sig = len(tau)/2.\n",
        "\n",
        "core = lbfgs_abs(Tb=Tb, tau=tau, hdr=hdr, rms_Tb=rms_Tb, rms_tau=rms_tau)\n",
        "\n",
        "solution=core.run(n_gauss=n_gauss, \n",
        "                  lb_amp=lb_amp,\n",
        "                  ub_amp=ub_amp,\n",
        "                  lb_mu=lb_mu,\n",
        "                  ub_mu=ub_mu,\n",
        "                  lb_sig=lb_sig,\n",
        "                  ub_sig=ub_sig, \n",
        "                  pcc_mu=mu_tol, \n",
        "                  pcc_sig=sig_tol, \n",
        "                  red_chi_sq_thres=fit_tol, \n",
        "                  amp_fact_init=amp_fact_init,\n",
        "                  sig_init=sig_init,\n",
        "                  maxiter=maxiter,\n",
        "                  maxiter_init=maxiter_init, \n",
        "                  max_cor_iter=corr_iter, \n",
        "                  iprint=iprint,\n",
        "                  iprint_init=iprint_init, \n",
        "                  init=0, \n",
        "                  prior=None)"
      ],
      "execution_count": null,
      "outputs": []
    }
  ]
}