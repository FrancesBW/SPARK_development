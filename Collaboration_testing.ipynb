{
 "cells": [
  {
   "cell_type": "markdown",
   "metadata": {
    "colab_type": "text",
    "id": "view-in-github"
   },
   "source": [
    "<a href=\"https://colab.research.google.com/github/FrancesBW/SPARK_development/blob/main/Collaboration_testing.ipynb\" target=\"_parent\"><img src=\"https://colab.research.google.com/assets/colab-badge.svg\" alt=\"Open In Colab\"/></a>"
   ]
  },
  {
   "cell_type": "markdown",
   "metadata": {
    "id": "lRXe-sVcQgOu"
   },
   "source": [
    "# Setup\n"
   ]
  },
  {
   "cell_type": "code",
   "execution_count": 1,
   "metadata": {
    "colab": {
     "base_uri": "https://localhost:8080/",
     "height": 232
    },
    "id": "sEtthF3uPprR",
    "outputId": "8473fc55-3254-486e-8275-d726a269b74a"
   },
   "outputs": [],
   "source": [
    "import numpy as np\n",
    "from astropy.io import fits\n",
    "import astropy.table as pytabs\n",
    "import matplotlib.pyplot as plt\n",
    "import os\n",
    "import pandas as pd\n",
    "\n",
    "from ipywidgets import *\n",
    "from IPython.display import display\n",
    "\n",
    "os.chdir('SPARK/SPARK/absorption/')\n",
    "from absorption_nov import lbfgs_abs\n",
    "os.chdir('../../../')"
   ]
  },
  {
   "cell_type": "code",
   "execution_count": 3,
   "metadata": {
    "colab": {
     "base_uri": "https://localhost:8080/"
    },
    "id": "1XzcJkBITu--",
    "outputId": "d54468e6-f886-444c-e150-66acee6d644b"
   },
   "outputs": [],
   "source": [
    "def plot_data(Tb, tau, rms=None):\n",
    "    if rms==None:\n",
    "        rms=np.zeros((len(Tb),2))\n",
    "    v=np.arange(len(Tb))\n",
    "    fig, [ax1, ax2] = plt.subplots(2, 1, sharex=True, figsize=(10,10),gridspec_kw={'height_ratios': [1,1]})\n",
    "    fig.subplots_adjust(hspace=0.)\n",
    "    ax1.plot(v, Tb, color='cornflowerblue', linewidth=2.)\n",
    "    ax1.fill_between(v, Tb-3.*rms[:,0], Tb+3.*rms[:,0], facecolor='lightgray', color='lightgray')\n",
    "    ax2.plot(v, -tau, color='cornflowerblue', linewidth=2.)\n",
    "    ax2.fill_between(v, -tau-3.*rms[:,0], -tau+3.*rms[:,0], facecolor='lightgray', color='lightgray')\n",
    "    return\n",
    "\n",
    "def pmp_example_sliders(Ts=100., tau_0=1., v_0=100., sig_0=1.):\n",
    "    v = np.arange(200)\n",
    "    def gaussian(x, amp, mu, sig):\n",
    "        return amp*np.exp(-((x-mu)**2)/(2*sig**2))\n",
    "    Tb=Ts*(np.ones(200)-np.exp(-gaussian(v, tau_0, v_0, sig_0)))\n",
    "    tau=gaussian(v, tau_0, v_0, sig_0)\n",
    "    plot = plot_data(Tb, tau)\n",
    "    return plot"
   ]
  },
  {
   "cell_type": "code",
   "execution_count": 4,
   "metadata": {},
   "outputs": [
    {
     "data": {
      "application/vnd.jupyter.widget-view+json": {
       "model_id": "c61f9c514a0347f8adf64ec22f81f9a4",
       "version_major": 2,
       "version_minor": 0
      },
      "text/plain": [
       "interactive(children=(IntSlider(value=100, description='Ts', max=5000, min=10, step=10), FloatSlider(value=1.0…"
      ]
     },
     "metadata": {},
     "output_type": "display_data"
    }
   ],
   "source": [
    "slider = interactive(pmp_example_sliders, Ts=(10, 5000, 10),tau_0=(0.01,4, 0.01), \n",
    "                     v_0=(0, 200, 2), sig_0=(1, 15, 0.2))\n",
    " \n",
    "#display the resulting slider\n",
    "display(slider)"
   ]
  },
  {
   "cell_type": "code",
   "execution_count": null,
   "metadata": {
    "id": "fsUOnctdQm3A"
   },
   "outputs": [],
   "source": [
    "path = ''\n",
    "name = '3C225A'\n",
    "\n",
    "cat = fits.getdata(path+\"all_sponge_sources_table_tighter.fits\")\n",
    "data_s = pytabs.Table(cat)\n",
    "idx_absline=np.where(data_s[\"NAMES\"]==name)[0][0]\n",
    "#we have to un-nan for some sources that we added nans to to make them fit in the table\n",
    "nan_values=np.isnan(data_s[idx_absline][\"VEL\"])\n",
    "numeric_values=[not i for i in nan_values]\n",
    "v = data_s[idx_absline][\"VEL\"][numeric_values]\n",
    "#correct velocities to model over\n",
    "chiller_vel_idx=np.intersect1d(np.where(v>-100.),np.where(v<80.))\n",
    "\n",
    "#initialise the reduced data\n",
    "v = v[chiller_vel_idx]\n",
    "Tb = data_s[idx_absline][\"TB\"][numeric_values][chiller_vel_idx]\n",
    "tau = data_s[idx_absline][\"TAU\"][numeric_values][chiller_vel_idx]\n",
    "rms_Tb=data_s[idx_absline]['SIG_TB'][numeric_values][chiller_vel_idx]\n",
    "rms_tau=data_s[idx_absline]['SIG_TAU'][numeric_values][chiller_vel_idx]\n",
    "\n",
    "#Channel spacing\n",
    "dv = np.diff(v)[0]\n",
    "\n",
    "#hdr\n",
    "hdr=fits.Header()\n",
    "hdr[\"CDELT3\"] = dv\n",
    "hdr[\"CRPIX3\"] = 0\n",
    "hdr[\"CRVAL3\"] = v[0]*1.e3\n",
    "\n",
    "#parameters                                                                                                                                                                                                                                                              \n",
    "amp_fact_init = 2./3.\n",
    "sig_init = 10.\n",
    "iprint_init = -1\n",
    "iprint = -1\n",
    "maxiter_init = 15000\n",
    "maxiter = 150000\n",
    "corr_iter = 10\n",
    "\n",
    "n_gauss = 9          #@param {type:\"slider\", min:1, max:25, step:1} \n",
    "fit_tol = 1.1          #@param {type:\"slider\", min:1, max:10, step:0.2}\n",
    "mu_tol = 5./(dv/1000)  #@param {type:\"slider\", min:0, max:100, step:1}\n",
    "sig_tol = 5./(dv/1000) #@param {type:\"slider\", min:0, max:100, step:1}\n",
    "lb_amp = 0.\n",
    "ub_amp = np.max(Tb)\n",
    "lb_mu = 1\n",
    "ub_mu = len(tau)\n",
    "lb_sig= 1\n",
    "ub_sig = len(tau)/2.\n",
    "\n",
    "core = lbfgs_abs(Tb=Tb, tau=tau, hdr=hdr, rms_Tb=rms_Tb, rms_tau=rms_tau)\n",
    "\n",
    "solution=core.run(n_gauss=n_gauss, \n",
    "                  lb_amp=lb_amp,\n",
    "                  ub_amp=ub_amp,\n",
    "                  lb_mu=lb_mu,\n",
    "                  ub_mu=ub_mu,\n",
    "                  lb_sig=lb_sig,\n",
    "                  ub_sig=ub_sig, \n",
    "                  pcc_mu=mu_tol, \n",
    "                  pcc_sig=sig_tol, \n",
    "                  red_chi_sq_thres=fit_tol, \n",
    "                  amp_fact_init=amp_fact_init,\n",
    "                  sig_init=sig_init,\n",
    "                  maxiter=maxiter,\n",
    "                  maxiter_init=maxiter_init, \n",
    "                  max_cor_iter=corr_iter, \n",
    "                  iprint=iprint,\n",
    "                  iprint_init=iprint_init, \n",
    "                  init=0, \n",
    "                  prior=None)"
   ]
  }
 ],
 "metadata": {
  "colab": {
   "authorship_tag": "ABX9TyOdg4sunp67ge/96l4al18X",
   "include_colab_link": true,
   "name": "Collaboration_testing.ipynb",
   "provenance": [],
   "toc_visible": true
  },
  "kernelspec": {
   "display_name": "Python 3",
   "language": "python",
   "name": "python3"
  },
  "language_info": {
   "codemirror_mode": {
    "name": "ipython",
    "version": 3
   },
   "file_extension": ".py",
   "mimetype": "text/x-python",
   "name": "python",
   "nbconvert_exporter": "python",
   "pygments_lexer": "ipython3",
   "version": "3.6.8"
  }
 },
 "nbformat": 4,
 "nbformat_minor": 1
}
